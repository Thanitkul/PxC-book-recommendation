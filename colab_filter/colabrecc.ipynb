{
 "cells": [
  {
   "cell_type": "code",
   "execution_count": 1,
   "id": "5328bfa0",
   "metadata": {},
   "outputs": [],
   "source": [
    "import os, numpy as np, pandas as pd\n",
    "from scipy import sparse\n",
    "from sklearn.metrics.pairwise import cosine_similarity\n",
    "from tqdm import tqdm, trange        #  ← tqdm is now in play!\n",
    "\n",
    "# --------------------------------------------------------------------\n",
    "# 1. Load data --------------------------------------------------------\n",
    "# --------------------------------------------------------------------\n",
    "clean_folder   = \"clean\"\n",
    "books_df       = pd.read_csv(os.path.join(clean_folder, \"books.csv\"))\n",
    "book_tags_df   = pd.read_csv(os.path.join(clean_folder, \"book_tags.csv\"))\n",
    "tags_df        = pd.read_csv(os.path.join(clean_folder, \"tags.csv\"))\n",
    "ratings_df     = pd.read_csv(os.path.join(clean_folder, \"ratings.csv\"))\n",
    "\n"
   ]
  },
  {
   "cell_type": "code",
   "execution_count": 2,
   "id": "4756e5af",
   "metadata": {},
   "outputs": [],
   "source": [
    "# --------------------------------------------------------------------\n",
    "# 2. Build the user-item matrix (CSR) --------------------------------\n",
    "# --------------------------------------------------------------------\n",
    "row  = ratings_df[\"user_id\"].values - 1\n",
    "col  = ratings_df[\"book_id\"].values - 1\n",
    "data = ratings_df[\"rating\"].values\n",
    "n_users, n_items = row.max() + 1, col.max() + 1\n",
    "\n",
    "R_csr = sparse.csr_matrix((data, (row, col)), shape=(n_users, n_items))\n",
    "\n"
   ]
  },
  {
   "cell_type": "code",
   "execution_count": null,
   "id": "7ca80016",
   "metadata": {},
   "outputs": [],
   "source": [
    "# --------------------------------------------------------------------\n",
    "# 3. Mean-centre items & compute similarity --------------------------\n",
    "# --------------------------------------------------------------------\n",
    "item_means = R_csr.sum(0) / (R_csr != 0).sum(0)\n",
    "R_centered = sparse.csr_matrix(R_csr - item_means) # mean-centre\n",
    "R_centered.eliminate_zeros() # remove empty row"
   ]
  },
  {
   "cell_type": "code",
   "execution_count": null,
   "id": "a41eec89",
   "metadata": {},
   "outputs": [],
   "source": [
    "k   = 40\n",
    "sim = cosine_similarity(R_centered.T, dense_output=False)\n"
   ]
  },
  {
   "cell_type": "code",
   "execution_count": null,
   "id": "3176bde7",
   "metadata": {},
   "outputs": [],
   "source": [
    "# Keep only top-k neighbours per item … with a progress bar 🟢\n",
    "for i in trange(sim.shape[0], desc=\"Pruning neighbours\"):\n",
    "    if sim.indptr[i] == sim.indptr[i+1]:\n",
    "        continue                         # item has no neighbours\n",
    "    topk = sim.data[sim.indptr[i]:sim.indptr[i+1]].argsort()[:-k-1:-1]\n",
    "    mask_idx = np.setdiff1d(\n",
    "        np.arange(sim.indptr[i], sim.indptr[i+1]), \n",
    "        sim.indptr[i] + topk, \n",
    "        assume_unique=True\n",
    "    )\n",
    "    sim.data[mask_idx] = 0\n",
    "sim.eliminate_zeros() # remove empty rows"
   ]
  },
  {
   "cell_type": "code",
   "execution_count": null,
   "id": "70be4a83",
   "metadata": {},
   "outputs": [],
   "source": [
    "# --------------------------------------------------------------------\n",
    "# 4. Predict & recommend — progress bar optional ---------------------\n",
    "# --------------------------------------------------------------------\n",
    "def _predict_user_item(uid, iid, R, S, means):\n",
    "    \"\"\"Return predicted rating for user uid (0-idx) & item iid (0-idx).\"\"\"\n",
    "    user_row   = R.getrow(uid)\n",
    "    rated_iids = user_row.indices\n",
    "    if iid in rated_iids:\n",
    "        return user_row[0, iid]\n",
    "\n",
    "    # neighbours user has rated\n",
    "    neigh_mask = np.in1d(rated_iids, S[iid].indices)\n",
    "    neigh_iids = rated_iids[neigh_mask]\n",
    "    if len(neigh_iids) == 0:\n",
    "        return means[0, iid]\n",
    "\n",
    "    sims    = S[iid, neigh_iids].A1\n",
    "    ratings = user_row[0, neigh_iids].A1 - means[0, neigh_iids]\n",
    "    return means[0, iid] + (sims @ ratings) / (np.abs(sims).sum() + 1e-9)\n",
    "\n",
    "def recommend(uid, top_n=10, show_tqdm=False):\n",
    "    \"\"\"Return a DataFrame of top_n book recommendations for 1-indexed uid.\"\"\"\n",
    "    iterator = trange if show_tqdm else range\n",
    "    preds = np.array([\n",
    "        _predict_user_item(uid-1, j, R_csr, sim, item_means)\n",
    "        for j in iterator(n_items, desc=f\"Scoring user {uid}\")\n",
    "    ])\n",
    "\n",
    "    already = set(R_csr.getrow(uid-1).indices)\n",
    "    ranked  = [j for j in preds.argsort()[::-1] if j not in already][:top_n]\n",
    "    return (books_df\n",
    "            .set_index(\"book_id\")\n",
    "            .loc[[j+1 for j in ranked], [\"title\", \"authors\"]]\n",
    "            .assign(score=preds[ranked]))"
   ]
  },
  {
   "cell_type": "code",
   "execution_count": null,
   "id": "4dc06187",
   "metadata": {},
   "outputs": [],
   "source": [
    "print(recommend(uid=1, top_n=10, show_tqdm=True))"
   ]
  }
 ],
 "metadata": {
  "kernelspec": {
   "display_name": "numpy_lab",
   "language": "python",
   "name": "python3"
  },
  "language_info": {
   "codemirror_mode": {
    "name": "ipython",
    "version": 3
   },
   "file_extension": ".py",
   "mimetype": "text/x-python",
   "name": "python",
   "nbconvert_exporter": "python",
   "pygments_lexer": "ipython3",
   "version": "3.10.13"
  }
 },
 "nbformat": 4,
 "nbformat_minor": 5
}
