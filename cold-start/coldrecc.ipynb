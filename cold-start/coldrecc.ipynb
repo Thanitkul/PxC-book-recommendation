{
 "cells": [
  {
   "cell_type": "code",
   "execution_count": 3,
   "metadata": {},
   "outputs": [],
   "source": [
    "import pandas as pd\n",
    "import os\n",
    "from sentence_transformers import SentenceTransformer, util\n",
    "\n",
    "# Load data\n",
    "clean_folder = \"clean\"\n",
    "books_df = pd.read_csv(os.path.join(clean_folder, \"books.csv\"))\n",
    "book_tags_df = pd.read_csv(os.path.join(clean_folder, \"book_tags.csv\"))\n",
    "tags_df = pd.read_csv(os.path.join(clean_folder, \"tags.csv\"))\n",
    "\n",
    "# Standardize column name for merging\n",
    "book_tags_df.rename(columns={'book_id': 'goodreads_book_id'}, inplace=True)\n",
    "\n",
    "# Rename 'book_id' in books_df to 'goodreads_book_id' for merging\n",
    "books_df.rename(columns={'book_id': 'goodreads_book_id'}, inplace=True)\n",
    "\n",
    "# Merge book_tags with tag names\n",
    "book_tags_merged = pd.merge(book_tags_df, tags_df, on='tag_id', how='inner')\n",
    "\n",
    "# Merge with books\n",
    "books_with_tags = pd.merge(\n",
    "    books_df[['goodreads_book_id', 'title', 'authors', 'average_rating',\n",
    "              'ratings_count', 'original_publication_year', 'language_code']],\n",
    "    book_tags_merged,\n",
    "    on='goodreads_book_id',\n",
    "    how='inner'\n",
    ")\n",
    "\n",
    "# Group by book and concatenate tag names into a single string\n",
    "books_tagged = books_with_tags.groupby('goodreads_book_id').agg({\n",
    "    'title': 'first',\n",
    "    'authors': 'first',\n",
    "    'average_rating': 'first',\n",
    "    'ratings_count': 'first',\n",
    "    'original_publication_year': 'first',\n",
    "    'language_code': 'first',\n",
    "    'tag_name': lambda x: ' '.join(set(x))  # deduplicated tag list\n",
    "}).reset_index()"
   ]
  },
  {
   "cell_type": "code",
   "execution_count": null,
   "metadata": {},
   "outputs": [],
   "source": [
    "# Load model\n",
    "model = SentenceTransformer('all-MiniLM-L6-v2')\n",
    "\n",
    "# Encode tag text for each book\n",
    "books_tagged['tag_text'] = books_tagged['tag_name']\n",
    "book_tag_embeddings0 = model.encode(books_tagged['tag_text'].tolist(), convert_to_tensor=True)"
   ]
  },
  {
   "cell_type": "code",
   "execution_count": 8,
   "metadata": {},
   "outputs": [],
   "source": [
    "def recommend_by_multiple_genres(user_genres, top_n=10):\n",
    "    \"\"\"\n",
    "    user_genres: str — comma-separated genres, e.g., \"Fantasy, Mystery, Romance\"\n",
    "    top_n: int — number of results to return\n",
    "    \"\"\"\n",
    "    # Parse and clean genres\n",
    "    genre_list = [g.strip() for g in user_genres.split(',') if g.strip()]\n",
    "    \n",
    "    if not genre_list:\n",
    "        raise ValueError(\"Please input at least one genre!\")\n",
    "\n",
    "    # Embed each genre separately\n",
    "    genre_embeddings = model.encode(genre_list, convert_to_tensor=True)\n",
    "\n",
    "    # Compute average embedding (user profile)\n",
    "    user_embedding = genre_embeddings.mean(dim=0)\n",
    "\n",
    "    # Compute cosine similarity with all books\n",
    "    scores = util.pytorch_cos_sim(user_embedding, book_tag_embeddings)[0]\n",
    "    top_results = scores.topk(top_n)\n",
    "\n",
    "    # Extract matching rows\n",
    "    results = books_tagged.iloc[top_results[1].cpu().numpy()].copy()\n",
    "    results['similarity'] = top_results[0].cpu().numpy()\n",
    "    return results[[\n",
    "        'goodreads_book_id', 'title', 'authors', 'average_rating',\n",
    "        'ratings_count', 'original_publication_year',\n",
    "        'language_code', 'similarity'\n",
    "    ]]"
   ]
  },
  {
   "cell_type": "code",
   "execution_count": null,
   "metadata": {},
   "outputs": [
    {
     "name": "stdout",
     "output_type": "stream",
     "text": [
      "      goodreads_book_id                                              title  \\\n",
      "5216               5217                 The Skull Throne (Demon Cycle, #4)   \n",
      "3454               3455           The Lake House (When the Wind Blows, #2)   \n",
      "5842               5843                                           The Fold   \n",
      "1735               1736                                        Dark Matter   \n",
      "9981               9982                              Feverborn (Fever, #8)   \n",
      "2997               2998                    Magic Bleeds (Kate Daniels, #4)   \n",
      "6317               6318  The Cat Who Walks Through Walls (The World As ...   \n",
      "4327               4328                          A Knight in Shining Armor   \n",
      "2083               2084                                            Anathem   \n",
      "2605               2606                 The Daylight War (Demon Cycle, #3)   \n",
      "\n",
      "                 authors  average_rating  ratings_count  \\\n",
      "5216      Peter V. Brett            4.14          15946   \n",
      "3454     James Patterson            3.79          30318   \n",
      "5842        Peter Clines            3.82          13519   \n",
      "1735        Blake Crouch            4.11          63814   \n",
      "9981  Karen Marie Moning            4.18          11570   \n",
      "2997       Ilona Andrews            4.46          50637   \n",
      "6317  Robert A. Heinlein            3.70          17892   \n",
      "4327       Jude Deveraux            4.23          26636   \n",
      "2083     Neal Stephenson            4.18          44848   \n",
      "2605      Peter V. Brett            4.23          34419   \n",
      "\n",
      "      original_publication_year language_code  similarity  \n",
      "5216                     2015.0           eng    0.534242  \n",
      "3454                     2003.0           eng    0.531313  \n",
      "5842                     2015.0           eng    0.527918  \n",
      "1735                     2016.0           eng    0.524968  \n",
      "9981                     2016.0           eng    0.524791  \n",
      "2997                     2010.0           eng    0.524347  \n",
      "6317                     1985.0         en-US    0.524093  \n",
      "4327                     1989.0           eng    0.523603  \n",
      "2083                     2008.0           eng    0.519836  \n",
      "2605                     2013.0           eng    0.519822  \n"
     ]
    }
   ],
   "source": [
    "user_input = \"Fantasy, Science Fiction, Young\"\n",
    "recommendations = recommend_by_multiple_genres(user_input, top_n=10)\n",
    "print(recommendations)"
   ]
  }
 ],
 "metadata": {
  "kernelspec": {
   "display_name": "numpy_lab",
   "language": "python",
   "name": "python3"
  },
  "language_info": {
   "codemirror_mode": {
    "name": "ipython",
    "version": 3
   },
   "file_extension": ".py",
   "mimetype": "text/x-python",
   "name": "python",
   "nbconvert_exporter": "python",
   "pygments_lexer": "ipython3",
   "version": "3.10.13"
  }
 },
 "nbformat": 4,
 "nbformat_minor": 2
}
