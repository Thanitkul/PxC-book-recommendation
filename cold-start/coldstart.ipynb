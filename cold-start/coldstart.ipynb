{
 "cells": [
  {
   "cell_type": "code",
   "execution_count": 3,
   "metadata": {},
   "outputs": [
    {
     "name": "stdout",
     "output_type": "stream",
     "text": [
      "   goodreads_book_id                                              title  \\\n",
      "0                  1            The Hunger Games (The Hunger Games, #1)   \n",
      "1                  2  Harry Potter and the Sorcerer's Stone (Harry P...   \n",
      "2                  3                            Twilight (Twilight, #1)   \n",
      "3                  4                              To Kill a Mockingbird   \n",
      "4                  5                                   The Great Gatsby   \n",
      "\n",
      "                       authors  average_rating  ratings_count  \\\n",
      "0              Suzanne Collins            4.34        4780653   \n",
      "1  J.K. Rowling, Mary GrandPré            4.44        4602479   \n",
      "2              Stephenie Meyer            3.57        3866839   \n",
      "3                   Harper Lee            4.25        3198671   \n",
      "4          F. Scott Fitzgerald            3.89        2683664   \n",
      "\n",
      "   original_publication_year language_code  \\\n",
      "0                     2008.0           eng   \n",
      "1                     1997.0           eng   \n",
      "2                     2005.0         en-US   \n",
      "3                     1960.0           eng   \n",
      "4                     1925.0           eng   \n",
      "\n",
      "                                            tag_name  \n",
      "0  Young Adult Survival Young Romance Coming Acti...  \n",
      "1  Young Adult Young Kids Mystery Supernatural No...  \n",
      "2  Abandoned Young Adult Young Romance Vampires S...  \n",
      "3  Young Adult Young Race Modern Coming Banned Hi...  \n",
      "4  Historical Clàssics Young Classics Drama High ...  \n"
     ]
    }
   ],
   "source": [
    "import pandas as pd\n",
    "import os\n",
    "\n",
    "# Load CSVs\n",
    "clean_folder = \"clean\"\n",
    "books_df = pd.read_csv(os.path.join(clean_folder, \"books.csv\"))\n",
    "book_tags_df = pd.read_csv(os.path.join(clean_folder, \"book_tags.csv\"))\n",
    "tags_df = pd.read_csv(os.path.join(clean_folder, \"tags.csv\"))\n",
    "\n",
    "# Rename book_tags_df to match books_df\n",
    "book_tags_df.rename(columns={'book_id': 'goodreads_book_id'}, inplace=True)\n",
    "\n",
    "# Merge book_tags with tags to get tag names\n",
    "book_tags_merged = pd.merge(book_tags_df, tags_df, on='tag_id', how='inner')\n",
    "\n",
    "# Merge tags onto books\n",
    "books_with_tags = pd.merge(\n",
    "    books_df[['book_id', 'title', 'authors', 'average_rating',\n",
    "              'ratings_count', 'original_publication_year', 'language_code']].rename(columns={'book_id': 'goodreads_book_id'}),\n",
    "    book_tags_merged,\n",
    "    on='goodreads_book_id',\n",
    "    how='inner'\n",
    ")\n",
    "\n",
    "# Group tags by book and create a single string per book\n",
    "books_tagged = books_with_tags.groupby('goodreads_book_id').agg({\n",
    "    'title': 'first',\n",
    "    'authors': 'first',\n",
    "    'average_rating': 'first',\n",
    "    'ratings_count': 'first',\n",
    "    'original_publication_year': 'first',\n",
    "    'language_code': 'first',\n",
    "    'tag_name': lambda x: ' '.join(set(x))  # de-duplicate tags\n",
    "}).reset_index()\n",
    "\n",
    "# Preview\n",
    "print(books_tagged.head())"
   ]
  },
  {
   "cell_type": "code",
   "execution_count": null,
   "metadata": {},
   "outputs": [
    {
     "name": "stderr",
     "output_type": "stream",
     "text": [
      "/Users/trunkooze/miniconda3/envs/numpy_lab/lib/python3.10/site-packages/tqdm/auto.py:21: TqdmWarning: IProgress not found. Please update jupyter and ipywidgets. See https://ipywidgets.readthedocs.io/en/stable/user_install.html\n",
      "  from .autonotebook import tqdm as notebook_tqdm\n"
     ]
    }
   ],
   "source": [
    "from sentence_transformers import SentenceTransformer, util\n",
    "\n",
    "# Load a compact transformer model\n",
    "model = SentenceTransformer('all-MiniLM-L6-v2')\n",
    "\n",
    "# Create embeddings for each book's tag string\n",
    "book_tag_embeddings = model.encode(books_tagged['tag_name'].tolist(), convert_to_tensor=True)"
   ]
  },
  {
   "cell_type": "code",
   "execution_count": 7,
   "metadata": {},
   "outputs": [],
   "source": [
    "def recommend_by_genre_tags(user_query, top_n=10):\n",
    "    # Embed user query (e.g. \"Fantasy\")\n",
    "    query_emb = model.encode(user_query, convert_to_tensor=True)\n",
    "    \n",
    "    # Compute cosine similarity with all book tag vectors\n",
    "    scores = util.pytorch_cos_sim(query_emb, book_tag_embeddings)[0]\n",
    "    top_results = scores.topk(top_n)\n",
    "\n",
    "    # Retrieve matching books\n",
    "    results = books_tagged.iloc[top_results[1].cpu().numpy()].copy()\n",
    "    results['similarity'] = top_results[0].cpu().numpy()\n",
    "    return results[[\n",
    "        'goodreads_book_id', 'title', 'authors', 'average_rating',\n",
    "        'ratings_count', 'original_publication_year',\n",
    "        'language_code', 'similarity'\n",
    "    ]]"
   ]
  },
  {
   "cell_type": "code",
   "execution_count": 8,
   "metadata": {},
   "outputs": [
    {
     "name": "stdout",
     "output_type": "stream",
     "text": [
      "      goodreads_book_id                                              title  \\\n",
      "1900               1901                            Shadowfever (Fever, #5)   \n",
      "1890               1891                             Dreamfever (Fever, #4)   \n",
      "1945               1946                               Faefever (Fever, #3)   \n",
      "6718               6719                          Storm Born (Dark Swan #1)   \n",
      "9981               9982                              Feverborn (Fever, #8)   \n",
      "7279               7280                                 Burned (Fever, #7)   \n",
      "9191               9192                        Thorn Queen (Dark Swan, #2)   \n",
      "5565               5566                     Dragon Bound (Elder Races, #1)   \n",
      "6677               6678  The Wheel of Time: Boxed Set #1 (Wheel of Time...   \n",
      "5727               5728             Dance of the Gods (Circle Trilogy, #2)   \n",
      "\n",
      "                 authors  average_rating  ratings_count  \\\n",
      "1900  Karen Marie Moning            4.46          73030   \n",
      "1890  Karen Marie Moning            4.43          68816   \n",
      "1945  Karen Marie Moning            4.34          68452   \n",
      "6718       Richelle Mead            3.90          25018   \n",
      "9981  Karen Marie Moning            4.18          11570   \n",
      "7279  Karen Marie Moning            4.12          17562   \n",
      "9191       Richelle Mead            4.12          17026   \n",
      "5565       Thea Harrison            4.13          29920   \n",
      "6677       Robert Jordan            4.43          13049   \n",
      "5727        Nora Roberts            4.13          23060   \n",
      "\n",
      "      original_publication_year language_code  similarity  \n",
      "1900                     2011.0         en-US    0.505192  \n",
      "1890                     2009.0         en-US    0.503835  \n",
      "1945                     2008.0         en-US    0.501168  \n",
      "6718                     2008.0           eng    0.498502  \n",
      "9981                     2016.0           eng    0.497896  \n",
      "7279                     2015.0           eng    0.495469  \n",
      "9191                     2008.0         en-GB    0.494408  \n",
      "5565                     2011.0           eng    0.494122  \n",
      "6677                     1990.0          None    0.490842  \n",
      "5727                     2006.0           eng    0.490379  \n"
     ]
    }
   ],
   "source": [
    "recs = recommend_by_genre_tags(\"Fantasy\", top_n=10)\n",
    "print(recs)"
   ]
  }
 ],
 "metadata": {
  "kernelspec": {
   "display_name": "numpy_lab",
   "language": "python",
   "name": "python3"
  },
  "language_info": {
   "codemirror_mode": {
    "name": "ipython",
    "version": 3
   },
   "file_extension": ".py",
   "mimetype": "text/x-python",
   "name": "python",
   "nbconvert_exporter": "python",
   "pygments_lexer": "ipython3",
   "version": "3.10.13"
  }
 },
 "nbformat": 4,
 "nbformat_minor": 2
}
